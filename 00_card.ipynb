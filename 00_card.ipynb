{
 "cells": [
  {
   "cell_type": "code",
   "execution_count": null,
   "id": "45b00978",
   "metadata": {},
   "outputs": [],
   "source": [
    "# default_exp card"
   ]
  },
  {
   "cell_type": "markdown",
   "id": "58d6defe",
   "metadata": {},
   "source": [
    "# Card\n",
    "\n",
    "> API details for card."
   ]
  },
  {
   "cell_type": "code",
   "execution_count": null,
   "id": "688c4512",
   "metadata": {},
   "outputs": [],
   "source": [
    "#hide\n",
    "from nbdev.showdoc import *"
   ]
  },
  {
   "cell_type": "code",
   "execution_count": null,
   "id": "30c2d32e",
   "metadata": {},
   "outputs": [
    {
     "name": "stdout",
     "output_type": "stream",
     "text": [
      "<class '__main__.Deck'>\n",
      "2 of Clubs\n",
      "2 of Diamonds\n",
      "Queen of Diamonds\n",
      "Ace of Hearts\n",
      "Jack of Spades\n"
     ]
    }
   ],
   "source": [
    "#export \n",
    "\"\"\"This module contains a code example related to\n",
    "\n",
    "Think Python, 2nd Edition\n",
    "by Allen Downey\n",
    "http://thinkpython2.com\n",
    "\n",
    "Copyright 2015 Allen Downey\n",
    "\n",
    "License: http://creativecommons.org/licenses/by/4.0/\n",
    "\"\"\"\n",
    "\n",
    "from __future__ import print_function, division\n",
    "\n",
    "import random\n",
    "\n",
    "\n",
    "class Card:\n",
    "    \"\"\"Represents a standard playing card.\n",
    "    \n",
    "    Attributes:\n",
    "      suit: integer 0-3\n",
    "      rank: integer 1-13\n",
    "    \"\"\"\n",
    "\n",
    "    suit_names = [\"Clubs\", \"Diamonds\", \"Hearts\", \"Spades\"]\n",
    "    rank_names = [None, \"Ace\", \"2\", \"3\", \"4\", \"5\", \"6\", \"7\", \n",
    "              \"8\", \"9\", \"10\", \"Jack\", \"Queen\", \"King\"]\n",
    "\n",
    "    def __init__(self, suit=0, rank=2):\n",
    "        self.suit = suit\n",
    "        self.rank = rank\n",
    "\n",
    "    def __str__(self):\n",
    "        \"\"\"Returns a human-readable string representation.\"\"\"\n",
    "        return '%s of %s' % (Card.rank_names[self.rank],\n",
    "                             Card.suit_names[self.suit])\n",
    "\n",
    "    def __eq__(self, other):\n",
    "        \"\"\"Checks whether self and other have the same rank and suit.\n",
    "\n",
    "        returns: boolean\n",
    "        \"\"\"\n",
    "        return self.suit == other.suit and self.rank == other.rank\n",
    "\n",
    "    def __lt__(self, other):\n",
    "        \"\"\"Compares this card to other, first by suit, then rank.\n",
    "\n",
    "        returns: boolean\n",
    "        \"\"\"\n",
    "        t1 = self.suit, self.rank\n",
    "        t2 = other.suit, other.rank\n",
    "        return t1 < t2\n",
    "\n",
    "\n",
    "class Deck:\n",
    "    \"\"\"Represents a deck of cards.\n",
    "\n",
    "    Attributes:\n",
    "      cards: list of Card objects.\n",
    "    \"\"\"\n",
    "    \n",
    "    def __init__(self):\n",
    "        \"\"\"Initializes the Deck with 52 cards.\n",
    "        \"\"\"\n",
    "        self.cards = []\n",
    "        for suit in range(4):\n",
    "            for rank in range(1, 14):\n",
    "                card = Card(suit, rank)\n",
    "                self.cards.append(card)\n",
    "\n",
    "    def __str__(self):\n",
    "        \"\"\"Returns a string representation of the deck.\n",
    "        \"\"\"\n",
    "        res = []\n",
    "        for card in self.cards:\n",
    "            res.append(str(card))\n",
    "        return '\\n'.join(res)\n",
    "\n",
    "    def add_card(self, card):\n",
    "        \"\"\"Adds a card to the deck.\n",
    "\n",
    "        card: Card\n",
    "        \"\"\"\n",
    "        self.cards.append(card)\n",
    "\n",
    "    def remove_card(self, card):\n",
    "        \"\"\"Removes a card from the deck or raises exception if it is not there.\n",
    "        \n",
    "        card: Card\n",
    "        \"\"\"\n",
    "        self.cards.remove(card)\n",
    "\n",
    "    def pop_card(self, i=-1):\n",
    "        \"\"\"Removes and returns a card from the deck.\n",
    "\n",
    "        i: index of the card to pop; by default, pops the last card.\n",
    "        \"\"\"\n",
    "        return self.cards.pop(i)\n",
    "\n",
    "    def shuffle(self):\n",
    "        \"\"\"Shuffles the cards in this deck.\"\"\"\n",
    "        random.shuffle(self.cards)\n",
    "\n",
    "    def sort(self):\n",
    "        \"\"\"Sorts the cards in ascending order.\"\"\"\n",
    "        self.cards.sort()\n",
    "\n",
    "    def move_cards(self, hand, num):\n",
    "        \"\"\"Moves the given number of cards from the deck into the Hand.\n",
    "\n",
    "        hand: destination Hand object\n",
    "        num: integer number of cards to move\n",
    "        \"\"\"\n",
    "        for i in range(num):\n",
    "            hand.add_card(self.pop_card())\n",
    "\n",
    "\n",
    "class Hand(Deck):\n",
    "    \"\"\"Represents a hand of playing cards.\"\"\"\n",
    "    \n",
    "    def __init__(self, label=''):\n",
    "        self.cards = []\n",
    "        self.label = label\n",
    "\n",
    "\n",
    "def find_defining_class(obj, method_name):\n",
    "    \"\"\"Finds and returns the class object that will provide \n",
    "    the definition of method_name (as a string) if it is\n",
    "    invoked on obj.\n",
    "\n",
    "    obj: any python object\n",
    "    method_name: string method name\n",
    "    \"\"\"\n",
    "    for ty in type(obj).mro():\n",
    "        if method_name in ty.__dict__:\n",
    "            return ty\n",
    "    return None\n",
    "\n",
    "\n",
    "if __name__ == '__main__':\n",
    "    deck = Deck()\n",
    "    deck.shuffle()\n",
    "\n",
    "    hand = Hand()\n",
    "    print(find_defining_class(hand, 'shuffle'))\n",
    "\n",
    "    deck.move_cards(hand, 5)\n",
    "    hand.sort()\n",
    "    print(hand)\n"
   ]
  },
  {
   "cell_type": "markdown",
   "id": "48665ac8",
   "metadata": {},
   "source": [
    "`Card` in nb notes"
   ]
  },
  {
   "cell_type": "code",
   "execution_count": null,
   "id": "f68c46f7",
   "metadata": {},
   "outputs": [
    {
     "name": "stdout",
     "output_type": "stream",
     "text": [
      "Jack of Hearts\n"
     ]
    }
   ],
   "source": [
    "print ( Card(suit=2, rank=11) )"
   ]
  },
  {
   "cell_type": "code",
   "execution_count": null,
   "id": "eb4eb654",
   "metadata": {},
   "outputs": [],
   "source": [
    "c1 = Card(suit=1, rank=3)\n",
    "c2 = Card(suit=2, rank=11)\n"
   ]
  },
  {
   "cell_type": "markdown",
   "id": "cc2cab5c",
   "metadata": {},
   "source": [
    "test case"
   ]
  },
  {
   "cell_type": "code",
   "execution_count": null,
   "id": "59de02e6",
   "metadata": {},
   "outputs": [
    {
     "ename": "AssertionError",
     "evalue": "",
     "output_type": "error",
     "traceback": [
      "\u001b[0;31m---------------------------------------------------------------------------\u001b[0m",
      "\u001b[0;31mAssertionError\u001b[0m                            Traceback (most recent call last)",
      "\u001b[0;32m/tmp/ipykernel_2421546/3303346133.py\u001b[0m in \u001b[0;36m<module>\u001b[0;34m\u001b[0m\n\u001b[0;32m----> 1\u001b[0;31m \u001b[0;32massert\u001b[0m \u001b[0mc2\u001b[0m\u001b[0;34m<\u001b[0m\u001b[0mc1\u001b[0m\u001b[0;34m\u001b[0m\u001b[0;34m\u001b[0m\u001b[0m\n\u001b[0m",
      "\u001b[0;31mAssertionError\u001b[0m: "
     ]
    }
   ],
   "source": [
    "assert c2>c1"
   ]
  },
  {
   "cell_type": "code",
   "execution_count": null,
   "id": "2f29d8b8",
   "metadata": {},
   "outputs": [
    {
     "data": {
      "text/markdown": [
       "<h4 id=\"Card.__eq__\" class=\"doc_header\"><code>Card.__eq__</code><a href=\"__main__.py#L39\" class=\"source_link\" style=\"float:right\">[source]</a></h4>\n",
       "\n",
       "> <code>Card.__eq__</code>(**`other`**)\n",
       "\n",
       "Checks whether self and other have the same rank and suit.\n",
       "\n",
       "returns: boolean"
      ],
      "text/plain": [
       "<IPython.core.display.Markdown object>"
      ]
     },
     "metadata": {},
     "output_type": "display_data"
    }
   ],
   "source": [
    "show_doc(Card.__eq__)"
   ]
  },
  {
   "cell_type": "markdown",
   "id": "871eb448",
   "metadata": {},
   "source": [
    "test"
   ]
  },
  {
   "cell_type": "code",
   "execution_count": null,
   "id": "5b5db362",
   "metadata": {},
   "outputs": [],
   "source": [
    "c1 = Card(suit=1, rank=3)\n",
    "c2 = Card(suit=1, rank=3)\n",
    "assert c1==c2"
   ]
  },
  {
   "cell_type": "code",
   "execution_count": null,
   "id": "70115f7e",
   "metadata": {},
   "outputs": [],
   "source": []
  }
 ],
 "metadata": {
  "kernelspec": {
   "display_name": "Python 3 (ipykernel)",
   "language": "python",
   "name": "python3"
  }
 },
 "nbformat": 4,
 "nbformat_minor": 5
}
